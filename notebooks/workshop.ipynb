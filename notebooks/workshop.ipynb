{
 "cells": [
  {
   "cell_type": "markdown",
   "id": "a052fbe6",
   "metadata": {},
   "source": [
    "# Fully Connected Tokyo 2025 Karakuri Workshop"
   ]
  },
  {
   "cell_type": "code",
   "execution_count": 1,
   "id": "9096892b",
   "metadata": {},
   "outputs": [],
   "source": [
    "import logging\n",
    "\n",
    "import sys\n",
    "sys.path.append(\"..\")\n",
    "\n",
    "logger = logging.getLogger(__name__)"
   ]
  },
  {
   "cell_type": "code",
   "execution_count": 2,
   "id": "24b4cf3d-a9c5-4ba8-9f9b-b5eb7a3c17c3",
   "metadata": {},
   "outputs": [],
   "source": [
    "import os\n",
    "from src.config import Config\n",
    "\n",
    "config = Config(_env_file=\"../.env\")\n",
    "os.environ[\"OPENAI_API_KEY\"] = config.openai_api_key.get_secret_value()"
   ]
  },
  {
   "cell_type": "code",
   "execution_count": 3,
   "id": "3cb5e27b-f9d6-41f2-b9ec-4607e6381984",
   "metadata": {},
   "outputs": [
    {
     "name": "stderr",
     "output_type": "stream",
     "text": [
      "\u001b[36m\u001b[1mweave\u001b[0m: wandb version 0.22.3 is available!  To upgrade, please run:\n",
      "\u001b[36m\u001b[1mweave\u001b[0m:  $ pip install wandb --upgrade\n",
      "\u001b[36m\u001b[1mweave\u001b[0m: Logged in as Weights & Biases user: k-obinata-trials.\n",
      "\u001b[36m\u001b[1mweave\u001b[0m: View Weave data at https://wandb.ai/k-obinata-trials-obinata-private/weave-quickstart/weave\n"
     ]
    }
   ],
   "source": [
    "from src.chat import setup_weave\n",
    "\n",
    "setup_weave(\n",
    "    wandb_api_key=config.wandb_api_key.get_secret_value(),\n",
    "    weave_project_name=config.weave_project_name,\n",
    ")"
   ]
  },
  {
   "cell_type": "markdown",
   "id": "83df164d",
   "metadata": {},
   "source": [
    "# チャット機能のお試し"
   ]
  },
  {
   "cell_type": "code",
   "execution_count": 4,
   "id": "ef7ca13b-306a-4b0b-b143-88c7135635b5",
   "metadata": {},
   "outputs": [
    {
     "name": "stderr",
     "output_type": "stream",
     "text": [
      "\u001b[36m\u001b[1mweave\u001b[0m: 🍩 https://wandb.ai/k-obinata-trials-obinata-private/weave-quickstart/r/call/019a32a0-13cb-7a04-b185-a63e6bf6ed73\n"
     ]
    },
    {
     "name": "stdout",
     "output_type": "stream",
     "text": [
      "プランの変更は、管理画面の「プラン設定」からいつでも行うことができます。変更内容は即座に反映されます。\n",
      "\n",
      "ご不明点がございましたら、具体的なご希望内容（例：アップグレード、ダウングレード、ご希望プラン名など）をお知らせください。さらに詳しくご案内いたします。\n"
     ]
    },
    {
     "name": "stderr",
     "output_type": "stream",
     "text": [
      "\u001b[36m\u001b[1mweave\u001b[0m: 🍩 https://wandb.ai/k-obinata-trials-obinata-private/weave-quickstart/r/call/019a32a0-21cb-73e6-93d4-b2f268244120\n",
      "\u001b[36m\u001b[1mweave\u001b[0m: 🍩 https://wandb.ai/k-obinata-trials-obinata-private/weave-quickstart/r/call/019a32a0-5ef9-7931-908c-5ec9e2bbe7c1\n",
      "\u001b[36m\u001b[1mweave\u001b[0m: 🍩 https://wandb.ai/k-obinata-trials-obinata-private/weave-quickstart/r/call/019a32a0-bead-7fae-89da-af6e3b835c37\n",
      "\u001b[36m\u001b[1mweave\u001b[0m: 🍩 https://wandb.ai/k-obinata-trials-obinata-private/weave-quickstart/r/call/019a32a0-f88b-7d65-83ce-36941b432b75\n"
     ]
    }
   ],
   "source": [
    "from src.chat import chat\n",
    "\n",
    "response = chat(messages=[{\"role\": \"user\", \"content\": \"プランを変更したいです\"}])\n",
    "print(response)"
   ]
  },
  {
   "cell_type": "markdown",
   "id": "4b919609-25e8-4330-ba22-639341db8755",
   "metadata": {},
   "source": [
    "# 精度評価"
   ]
  },
  {
   "cell_type": "code",
   "execution_count": 5,
   "id": "0b9855cf-9a75-460a-8075-20e859f6a1da",
   "metadata": {},
   "outputs": [
    {
     "name": "stdout",
     "output_type": "stream",
     "text": [
      "Loaded 10 evaluation examples\n",
      "==== 評価開始 ====\n"
     ]
    },
    {
     "name": "stderr",
     "output_type": "stream",
     "text": [
      "\u001b[36m\u001b[1mweave\u001b[0m: Evaluated 1 of 10 examples\n",
      "\u001b[36m\u001b[1mweave\u001b[0m: Evaluated 2 of 10 examples\n",
      "\u001b[36m\u001b[1mweave\u001b[0m: Evaluated 3 of 10 examples\n",
      "\u001b[36m\u001b[1mweave\u001b[0m: Evaluated 4 of 10 examples\n",
      "\u001b[36m\u001b[1mweave\u001b[0m: Evaluated 5 of 10 examples\n",
      "\u001b[36m\u001b[1mweave\u001b[0m: Evaluated 6 of 10 examples\n",
      "\u001b[36m\u001b[1mweave\u001b[0m: Evaluated 7 of 10 examples\n",
      "\u001b[36m\u001b[1mweave\u001b[0m: Evaluated 8 of 10 examples\n",
      "\u001b[36m\u001b[1mweave\u001b[0m: Evaluated 9 of 10 examples\n",
      "\u001b[36m\u001b[1mweave\u001b[0m: Evaluated 10 of 10 examples\n",
      "\u001b[36m\u001b[1mweave\u001b[0m: Evaluation summary {\n",
      "\u001b[36m\u001b[1mweave\u001b[0m:   \"QAAccuracyScorer\": {\n",
      "\u001b[36m\u001b[1mweave\u001b[0m:     \"accuracy\": {\n",
      "\u001b[36m\u001b[1mweave\u001b[0m:       \"answer\": {\n",
      "\u001b[36m\u001b[1mweave\u001b[0m:         \"mean\": 1.1\n",
      "\u001b[36m\u001b[1mweave\u001b[0m:       }\n",
      "\u001b[36m\u001b[1mweave\u001b[0m:     }\n",
      "\u001b[36m\u001b[1mweave\u001b[0m:   },\n",
      "\u001b[36m\u001b[1mweave\u001b[0m:   \"ContextHallucinationScorer\": {\n",
      "\u001b[36m\u001b[1mweave\u001b[0m:     \"context_hallucination\": {\n",
      "\u001b[36m\u001b[1mweave\u001b[0m:       \"hallucination\": {\n",
      "\u001b[36m\u001b[1mweave\u001b[0m:         \"mean\": 0.1\n",
      "\u001b[36m\u001b[1mweave\u001b[0m:       }\n",
      "\u001b[36m\u001b[1mweave\u001b[0m:     }\n",
      "\u001b[36m\u001b[1mweave\u001b[0m:   },\n",
      "\u001b[36m\u001b[1mweave\u001b[0m:   \"CommonSenseHallucinationScorer\": {\n",
      "\u001b[36m\u001b[1mweave\u001b[0m:     \"common_sense_hallucination\": {\n",
      "\u001b[36m\u001b[1mweave\u001b[0m:       \"hallucination\": {\n",
      "\u001b[36m\u001b[1mweave\u001b[0m:         \"mean\": 0.3\n",
      "\u001b[36m\u001b[1mweave\u001b[0m:       }\n",
      "\u001b[36m\u001b[1mweave\u001b[0m:     }\n",
      "\u001b[36m\u001b[1mweave\u001b[0m:   },\n",
      "\u001b[36m\u001b[1mweave\u001b[0m:   \"model_latency\": {\n",
      "\u001b[36m\u001b[1mweave\u001b[0m:     \"mean\": 3.0413529872894287\n",
      "\u001b[36m\u001b[1mweave\u001b[0m:   }\n",
      "\u001b[36m\u001b[1mweave\u001b[0m: }\n"
     ]
    }
   ],
   "source": [
    "from src.run_evaluation import (\n",
    "    load_evaluation_dataset,\n",
    "    QAAccuracyScorer,\n",
    "    ContextHallucinationScorer,\n",
    "    CommonSenseHallucinationScorer,\n",
    "    ChatBotModel,\n",
    ")\n",
    "from weave import Dataset, Evaluation, Table\n",
    "\n",
    "dataset = load_evaluation_dataset(file_path=\"../data/eval-onboarding.csv\")\n",
    "print(f\"Loaded {len(dataset)} evaluation examples\")\n",
    "\n",
    "qa_accuracy_scorer = QAAccuracyScorer()\n",
    "context_scorer = ContextHallucinationScorer()\n",
    "commonsense_scorer = CommonSenseHallucinationScorer()\n",
    "model = ChatBotModel()\n",
    "\n",
    "table = Table(dataset)\n",
    "weave_dataset = Dataset(name=\"PreReleaseEvaluationDataset\", rows=table)\n",
    "evaluation = Evaluation(\n",
    "    name=\"PreReleaseEvaluation\",\n",
    "    dataset=weave_dataset,\n",
    "    scorers=[qa_accuracy_scorer, context_scorer, commonsense_scorer],\n",
    ")\n",
    "\n",
    "print(\"==== 評価開始 ====\")\n",
    "results = await evaluation.evaluate(model)"
   ]
  },
  {
   "cell_type": "markdown",
   "id": "b0d1f831",
   "metadata": {},
   "source": [
    "# プロンプト改善"
   ]
  },
  {
   "cell_type": "code",
   "execution_count": 6,
   "id": "ea91b839",
   "metadata": {},
   "outputs": [
    {
     "name": "stdout",
     "output_type": "stream",
     "text": [
      "=== 改善後のプロンプト ===\n",
      "## 基本情報\n",
      "あなたはカスタマーサポート向けSaaS『カラクリCSデジタルシリーズ』のカスタマーサポート担当です。\n",
      "常に丁寧で親切な対応を心掛けてください。\n",
      "\n",
      "## 回答ルール\n",
      "1. 回答の前に必ずFAQ・ドキュメントを参照してください。\n",
      "2. FAQやドキュメントに情報がない場合は、\n",
      "   - 追加の詳細質問や深堀りは行わず、\n",
      "   - 必要に応じて「お手数ですが、詳細なご質問やご要望は問い合わせフォーム（https://example.com/inquiry）よりご連絡ください」とご案内してください。\n",
      "3. サービスに直接関係しない一般的な質問（例：APIとは何か等）が来た場合は、\n",
      "   - まず「本サービスのご利用に関するご質問でしょうか？」と意図を確認し、\n",
      "   - サービス利用に関係がない場合は、一般的な説明は控えてください。\n",
      "4. サービスに関する具体的なご相談や改善要望には、FAQやドキュメントの内容を案内した上で、ユーザーのニーズを深掘りしても構いません。\n",
      "5. 期待値を不必要に高める表現や、調べれば答えられると誤解させる対応は避けてください。\n",
      "\n",
      "## 例外対応\n",
      "- FAQやドキュメントに情報がない内容については、必ず問い合わせフォームへの案内を含めてください。\n",
      "- サービス非関連の一般的な質問には、サービス利用の意図確認を優先し、不要な詳細説明はしないでください。\n",
      "\n",
      "このルールに従い、ユーザー体験を損なわないようにサポート対応を行ってください。\n",
      "=== 変更理由 ===\n",
      "主な問題は、FAQ未掲載時やサービス非関連の質問に対して過度な深堀りや追加質問を行い、ユーザーの期待値を不必要に高めてしまう点でした。改善後のプロンプトでは、FAQやドキュメントに情報がない場合は追加質問を控え、必ず問い合わせフォームへの案内を徹底するよう明記しました。また、サービスに直接関係しない一般的な質問には、まず意図確認を優先し、不要な詳細説明を避けるよう指示しています。これにより、ユーザーの手間や期待値の管理が適切になり、サービス品質とユーザー体験の向上が期待できます。\n",
      "=== フィードバック分析 ===\n",
      "{'total_logs': 4, 'negative_count': 3, 'positive_count': 1, 'problem_patterns': {'pattern_1': {'name': 'サービス非関連質問への過度な深堀り', 'description': 'サービスに直接関係しない一般的な質問（例：APIの定義など）に対して、詳細な解説や深堀りを行いすぎている。ユーザーの本来の意図（サービス利用に関する質問かどうか）を確認せずに説明を続けてしまい、ユーザー体験を損ねている。', 'count': 1, 'examples': ['APIってなんですか → APIの一般的な説明を詳細に回答し、サービス関連の意図確認を後回しにしている']}, 'pattern_2': {'name': 'FAQ未掲載時の不適切な深堀り・期待の過剰喚起', 'description': 'FAQやドキュメントに情報がない場合、ユーザーに追加情報を求めたり、詳細を深堀りすることで『調べれば答えられる』という期待を持たせてしまう。本来は問い合わせフォームやサポート窓口への案内が適切なケースで、ユーザーの手間や期待値管理に課題がある。', 'count': 2, 'examples': ['管理画面はSSO対応していますか？ → FAQに記載がない旨を伝えた後、追加情報を求めてしまい、問い合わせフォーム案内が抜けている', 'チャットボットのモデルはどういうシステム構成になっていますか？ → FAQに情報がない旨を伝えた後、詳細な要望を聞き出そうとしているが、問い合わせフォーム案内が抜けている']}}, 'summary': '主な問題は、サービスに直接関係しない質問やFAQ未掲載の内容に対して、チャットボットが過度に深堀りしたり、追加情報を求めてしまう点です。これにより、ユーザーの期待値を不必要に高めたり、本来案内すべき問い合わせフォームへの誘導が漏れてしまっています。一方、ポジティブフィードバックでは、サービスに関する具体的なアドバイスを行った上で、ユーザーのニーズを適切に深堀りしている点が評価されています。', 'priority_issues': ['FAQやドキュメントに情報がない場合は、追加の深堀りや詳細質問を控え、問い合わせフォームへの案内を徹底する', 'サービスに直接関係しない一般的な質問には、サービス利用に関する意図を確認する対応を優先し、不要な詳細説明を避ける'], 'negative_feedbacks': [{'id': '1', 'question': 'APIってなんですか', 'answer': 'APIとは「Application Programming Interface（アプリケーション・プログラミング・インターフェース）」の略で、ソフトウェア同士が機能やデータをやりとりするための仕組みです。たとえば、弊社サービス「カラクリCSデジタルシリーズ」でも、APIを通じて他システムと連携したり、データを取得・送信することができます。\\n\\nもしAPIのより具体的な利用方法や制限についてご質問があれば、ぜひお知らせください。', 'feedback': 'ng', 'reason': 'サービスに関係無い話題の場合は深堀りせず、サービスに関連する問い合わせが無いか確認すべき'}, {'id': '2', 'question': '管理画面はSSO対応していますか？', 'answer': '現時点で、管理画面のSSO（シングルサインオン）対応についての明確な記載はFAQ内にございません。お手数ですが、より詳細なご要望や利用予定のSSOサービス（例：Google Workspace、Azure ADなど）があれば、追加でお知らせいただけますと幸いです。必要でしたら、担当部署に確認のうえ、改めてご案内いたします。', 'feedback': 'ng', 'reason': '検索したFAQで関連ドキュメントが見つからない場合、深堀りしても期待を煽るだけになるので問い合わせフォーム https://example.com/inquiry を案内すべき'}, {'id': '3', 'question': 'チャットボットのモデルはどういうシステム構成になっていますか？', 'answer': '現時点でFAQの中に、チャットボットのモデルの詳しいシステム構成に関する具体的な情報は見当たりませんでした。\\n\\nご参考までに、カラクリCSデジタルシリーズのチャットボットはセキュリティに配慮しており、学習データは暗号化されて日本国内のデータセンターに安全に保存されています。また、応答も非常に高速（通常1秒以内）で提供できます。\\n\\nもしシステムアーキテクチャ詳細（使用しているAIモデル、インフラ構成、APIの有無など）についてご要望がございましたら、もう少し具体的なご質問内容をお聞かせいただければ、より詳細にご案内できる場合がございます。どうぞご遠慮なくお知らせください。', 'feedback': 'ng', 'reason': '検索したFAQで関連ドキュメントが見つからない場合、深堀りしても期待を煽るだけになるので問い合わせフォーム https://example.com/inquiry を案内すべき'}], 'positive_feedbacks': [{'id': '4', 'question': 'チャットボットの精度を上げたい', 'answer': 'チャットボットの精度を上げるためには、以下の方法が効果的です。\\n\\n- FAQデータを充実させること\\n- 定期的に会話ログを確認し、改善点を見つけて修正すること\\n\\nもし具体的な改善方法やツールの使い方などご相談があれば、お気軽にお知らせください。', 'feedback': 'ok', 'reason': '回答した上で、ユーザーのニーズを深堀りするのはとても良い'}]}\n"
     ]
    }
   ],
   "source": [
    "from src.prompts import SYSTEM_PROMPT\n",
    "from src.prompt_improvement import improve_prompt_from_feedback\n",
    "\n",
    "\n",
    "result = improve_prompt_from_feedback(SYSTEM_PROMPT, feedback_csv_path=\"../data/feedback-logs.csv\")\n",
    "print(\"=== 改善後のプロンプト ===\")\n",
    "print(result.improved_prompt)\n",
    "print(\"=== 変更理由 ===\")\n",
    "print(result.change_reason)\n",
    "print(\"=== フィードバック分析 ===\")\n",
    "print(result.feedback_analysis)"
   ]
  },
  {
   "cell_type": "markdown",
   "id": "e0c1319c",
   "metadata": {},
   "source": [
    "# 改善示唆出し"
   ]
  },
  {
   "cell_type": "code",
   "execution_count": 7,
   "id": "1d164e0f",
   "metadata": {},
   "outputs": [
    {
     "name": "stdout",
     "output_type": "stream",
     "text": [
      "Loaded 10 examples\n",
      "==== 改善示唆出し開始 ====\n"
     ]
    },
    {
     "name": "stderr",
     "output_type": "stream",
     "text": [
      "\u001b[36m\u001b[1mweave\u001b[0m: Evaluated 1 of 10 examples\n",
      "\u001b[36m\u001b[1mweave\u001b[0m: Evaluated 2 of 10 examples\n",
      "\u001b[36m\u001b[1mweave\u001b[0m: Evaluated 3 of 10 examples\n",
      "\u001b[36m\u001b[1mweave\u001b[0m: Evaluated 4 of 10 examples\n",
      "\u001b[36m\u001b[1mweave\u001b[0m: Evaluated 5 of 10 examples\n",
      "\u001b[36m\u001b[1mweave\u001b[0m: Evaluated 6 of 10 examples\n",
      "\u001b[36m\u001b[1mweave\u001b[0m: Evaluated 7 of 10 examples\n",
      "\u001b[36m\u001b[1mweave\u001b[0m: Evaluated 8 of 10 examples\n",
      "\u001b[36m\u001b[1mweave\u001b[0m: Evaluated 9 of 10 examples\n",
      "\u001b[36m\u001b[1mweave\u001b[0m: Evaluated 10 of 10 examples\n",
      "\u001b[36m\u001b[1mweave\u001b[0m: Evaluation summary {\n",
      "\u001b[36m\u001b[1mweave\u001b[0m:   \"KnowledgeGapScorer\": {\n",
      "\u001b[36m\u001b[1mweave\u001b[0m:     \"knowledge_gap\": {\n",
      "\u001b[36m\u001b[1mweave\u001b[0m:       \"flag\": {\n",
      "\u001b[36m\u001b[1mweave\u001b[0m:         \"mean\": 0.2\n",
      "\u001b[36m\u001b[1mweave\u001b[0m:       },\n",
      "\u001b[36m\u001b[1mweave\u001b[0m:       \"raw\": {\n",
      "\u001b[36m\u001b[1mweave\u001b[0m:         \"discontent\": {\n",
      "\u001b[36m\u001b[1mweave\u001b[0m:           \"mean\": 0.2\n",
      "\u001b[36m\u001b[1mweave\u001b[0m:         },\n",
      "\u001b[36m\u001b[1mweave\u001b[0m:         \"lack_of_knowledge\": {\n",
      "\u001b[36m\u001b[1mweave\u001b[0m:           \"mean\": 0.2\n",
      "\u001b[36m\u001b[1mweave\u001b[0m:         },\n",
      "\u001b[36m\u001b[1mweave\u001b[0m:         \"lack_of_understanding\": {\n",
      "\u001b[36m\u001b[1mweave\u001b[0m:           \"mean\": 0.0\n",
      "\u001b[36m\u001b[1mweave\u001b[0m:         }\n",
      "\u001b[36m\u001b[1mweave\u001b[0m:       }\n",
      "\u001b[36m\u001b[1mweave\u001b[0m:     }\n",
      "\u001b[36m\u001b[1mweave\u001b[0m:   },\n",
      "\u001b[36m\u001b[1mweave\u001b[0m:   \"model_latency\": {\n",
      "\u001b[36m\u001b[1mweave\u001b[0m:     \"mean\": 4.23429844379425\n",
      "\u001b[36m\u001b[1mweave\u001b[0m:   }\n",
      "\u001b[36m\u001b[1mweave\u001b[0m: }\n"
     ]
    }
   ],
   "source": [
    "from weave import Dataset, Evaluation, Table\n",
    "\n",
    "from src.run_improvement import load_questions, ChatBotModel, KnowledgeGapScorer\n",
    "\n",
    "questions = load_questions(file_path=\"../data/eval-onboarding.csv\")\n",
    "print(f\"Loaded {len(questions)} examples\")\n",
    "\n",
    "model = ChatBotModel()\n",
    "scorer = KnowledgeGapScorer()\n",
    "\n",
    "table = Table([{\"question\": q[\"question\"], \"id\": q[\"id\"]} for q in questions])\n",
    "dataset = Dataset(name=\"KnowledgeImprovementEvaluationDataset\", rows=table)\n",
    "evaluation = Evaluation(\n",
    "    name=\"KnowledgeImprovementEvaluation\",\n",
    "    dataset=dataset,\n",
    "    scorers=[scorer],\n",
    ")\n",
    "\n",
    "print(\"==== 改善示唆出し開始 ====\")\n",
    "results = await evaluation.evaluate(model)"
   ]
  }
 ],
 "metadata": {
  "kernelspec": {
   "display_name": ".venv",
   "language": "python",
   "name": "python3"
  },
  "language_info": {
   "codemirror_mode": {
    "name": "ipython",
    "version": 3
   },
   "file_extension": ".py",
   "mimetype": "text/x-python",
   "name": "python",
   "nbconvert_exporter": "python",
   "pygments_lexer": "ipython3",
   "version": "3.13.3"
  }
 },
 "nbformat": 4,
 "nbformat_minor": 5
}
