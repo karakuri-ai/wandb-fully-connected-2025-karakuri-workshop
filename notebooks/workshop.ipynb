{
 "cells": [
  {
   "cell_type": "markdown",
   "id": "a052fbe6",
   "metadata": {},
   "source": [
    "# Fully Connected Tokyo 2025 Karakuri Workshop"
   ]
  },
  {
   "cell_type": "code",
   "execution_count": 1,
   "id": "9096892b",
   "metadata": {},
   "outputs": [],
   "source": [
    "import logging\n",
    "\n",
    "# Colabではgit cloneする\n",
    "import sys\n",
    "sys.path.append(\"..\")\n",
    "\n",
    "logger = logging.getLogger(__name__)"
   ]
  },
  {
   "cell_type": "markdown",
   "id": "d1afc6a7",
   "metadata": {},
   "source": [
    "TODO: Colabでの実行も想定し、.envを読まずともベタ書きも出来るような書き方にする。"
   ]
  },
  {
   "cell_type": "code",
   "execution_count": 2,
   "id": "24b4cf3d-a9c5-4ba8-9f9b-b5eb7a3c17c3",
   "metadata": {},
   "outputs": [],
   "source": [
    "import os\n",
    "from src.config import Config\n",
    "\n",
    "config = Config(_env_file=\"../.env\")\n",
    "os.environ[\"OPENAI_API_KEY\"] = config.openai_api_key.get_secret_value()"
   ]
  },
  {
   "cell_type": "code",
   "execution_count": 3,
   "id": "3cb5e27b-f9d6-41f2-b9ec-4607e6381984",
   "metadata": {},
   "outputs": [
    {
     "name": "stderr",
     "output_type": "stream",
     "text": [
      "\u001b[36m\u001b[1mweave\u001b[0m: Logged in as Weights & Biases user: k-obinata-trials.\n",
      "\u001b[36m\u001b[1mweave\u001b[0m: View Weave data at https://wandb.ai/k-obinata-trials-obinata-private/weave-quickstart/weave\n"
     ]
    }
   ],
   "source": [
    "from src.chat import setup_weave\n",
    "\n",
    "setup_weave(\n",
    "    wandb_api_key=config.wandb_api_key.get_secret_value(),\n",
    "    weave_project_name=config.weave_project_name,\n",
    ")"
   ]
  },
  {
   "cell_type": "markdown",
   "id": "83df164d",
   "metadata": {},
   "source": [
    "# チャット機能のお試し"
   ]
  },
  {
   "cell_type": "code",
   "execution_count": 4,
   "id": "ef7ca13b-306a-4b0b-b143-88c7135635b5",
   "metadata": {},
   "outputs": [
    {
     "name": "stderr",
     "output_type": "stream",
     "text": [
      "\u001b[36m\u001b[1mweave\u001b[0m: 🍩 https://wandb.ai/k-obinata-trials-obinata-private/weave-quickstart/r/call/0199fdb1-f68b-7240-89aa-a85aca86c6b3\n"
     ]
    },
    {
     "name": "stdout",
     "output_type": "stream",
     "text": [
      "プランの変更をご希望の場合は、管理画面の「プラン設定」からいつでも変更が可能です。変更は即座に反映されますので、ご都合の良いタイミングでお手続きください。\n",
      "\n",
      "ご不明な点がありましたら、詳しい操作方法もご案内いたしますので、お気軽にお知らせください。\n"
     ]
    },
    {
     "name": "stderr",
     "output_type": "stream",
     "text": [
      "\u001b[36m\u001b[1mweave\u001b[0m: 🍩 https://wandb.ai/k-obinata-trials-obinata-private/weave-quickstart/r/call/0199fdb3-b2d0-737f-b992-434a7384d12a\n",
      "\u001b[36m\u001b[1mweave\u001b[0m: 🍩 https://wandb.ai/k-obinata-trials-obinata-private/weave-quickstart/r/call/0199fdb3-d1b6-793c-9403-db244fb39ebd\n",
      "\u001b[36m\u001b[1mweave\u001b[0m: 🍩 https://wandb.ai/k-obinata-trials-obinata-private/weave-quickstart/r/call/0199fdb4-416d-7b80-b9d9-77f1b61ece07\n"
     ]
    }
   ],
   "source": [
    "from src.chat import chat\n",
    "\n",
    "response = chat(messages=[{\"role\": \"user\", \"content\": \"プランを変更したいです\"}])\n",
    "print(response)"
   ]
  },
  {
   "cell_type": "code",
   "execution_count": null,
   "id": "86245d02-417c-4413-8930-bc62e3def50b",
   "metadata": {},
   "outputs": [],
   "source": []
  },
  {
   "cell_type": "markdown",
   "id": "4b919609-25e8-4330-ba22-639341db8755",
   "metadata": {},
   "source": [
    "# 精度評価"
   ]
  },
  {
   "cell_type": "code",
   "execution_count": 5,
   "id": "0b9855cf-9a75-460a-8075-20e859f6a1da",
   "metadata": {},
   "outputs": [
    {
     "name": "stderr",
     "output_type": "stream",
     "text": [
      "\u001b[36m\u001b[1mweave\u001b[0m: Evaluated 1 of 10 examples\n",
      "\u001b[36m\u001b[1mweave\u001b[0m: 🍩 https://wandb.ai/k-obinata-trials-obinata-private/weave-quickstart/r/call/0199fdb2-ccd5-7b09-a25a-1105972fab4d\n",
      "\u001b[36m\u001b[1mweave\u001b[0m: Evaluated 2 of 10 examples\n",
      "\u001b[36m\u001b[1mweave\u001b[0m: Evaluated 3 of 10 examples\n",
      "\u001b[36m\u001b[1mweave\u001b[0m: Evaluated 4 of 10 examples\n",
      "\u001b[36m\u001b[1mweave\u001b[0m: Evaluated 5 of 10 examples\n",
      "\u001b[36m\u001b[1mweave\u001b[0m: Evaluated 6 of 10 examples\n",
      "\u001b[36m\u001b[1mweave\u001b[0m: Evaluated 7 of 10 examples\n",
      "\u001b[36m\u001b[1mweave\u001b[0m: Evaluated 8 of 10 examples\n",
      "\u001b[36m\u001b[1mweave\u001b[0m: Evaluated 9 of 10 examples\n",
      "\u001b[36m\u001b[1mweave\u001b[0m: Evaluated 10 of 10 examples\n",
      "\u001b[36m\u001b[1mweave\u001b[0m: Evaluation summary {\n",
      "\u001b[36m\u001b[1mweave\u001b[0m:   \"QAAccuracyScorer\": {\n",
      "\u001b[36m\u001b[1mweave\u001b[0m:     \"accuracy\": {\n",
      "\u001b[36m\u001b[1mweave\u001b[0m:       \"answer\": {\n",
      "\u001b[36m\u001b[1mweave\u001b[0m:         \"mean\": 1.1\n",
      "\u001b[36m\u001b[1mweave\u001b[0m:       }\n",
      "\u001b[36m\u001b[1mweave\u001b[0m:     }\n",
      "\u001b[36m\u001b[1mweave\u001b[0m:   },\n",
      "\u001b[36m\u001b[1mweave\u001b[0m:   \"ContextHallucinationScorer\": null,\n",
      "\u001b[36m\u001b[1mweave\u001b[0m:   \"CommonSenseHallucinationScorer\": null,\n",
      "\u001b[36m\u001b[1mweave\u001b[0m:   \"model_latency\": {\n",
      "\u001b[36m\u001b[1mweave\u001b[0m:     \"mean\": 4.0956339836120605\n",
      "\u001b[36m\u001b[1mweave\u001b[0m:   }\n",
      "\u001b[36m\u001b[1mweave\u001b[0m: }\n"
     ]
    }
   ],
   "source": [
    "from src.run_evaluation import (\n",
    "    load_evaluation_dataset,\n",
    "    QAAccuracyScorer,\n",
    "    ContextHallucinationScorer,\n",
    "    CommonSenseHallucinationScorer,\n",
    "    ChatBotModel,\n",
    ")\n",
    "from weave import Dataset, Evaluation, Table\n",
    "\n",
    "logger.info(\"Loading evaluation dataset...\")\n",
    "dataset = load_evaluation_dataset(file_path=\"../data/eval-onboarding.csv\")\n",
    "logger.info(\"Loaded %d evaluation examples\", len(dataset))\n",
    "\n",
    "qa_accuracy_scorer = QAAccuracyScorer()\n",
    "context_scorer = ContextHallucinationScorer()\n",
    "commonsense_scorer = CommonSenseHallucinationScorer()\n",
    "model = ChatBotModel()\n",
    "\n",
    "# Create evaluation\n",
    "table = Table(dataset)\n",
    "weave_dataset = Dataset(name=\"chatbot_evaluation\", rows=table)\n",
    "evaluation = Evaluation(\n",
    "    dataset=weave_dataset,\n",
    "    scorers=[qa_accuracy_scorer, context_scorer, commonsense_scorer],\n",
    ")\n",
    "\n",
    "logger.info(\"Starting evaluation...\")\n",
    "try:\n",
    "    results = await evaluation.evaluate(model)\n",
    "    logger.info(\"Evaluation completed successfully\")\n",
    "    logger.info(\"Results: %s\", results)\n",
    "except Exception:\n",
    "    logger.exception(\"Evaluation failed\")\n",
    "    raise"
   ]
  },
  {
   "cell_type": "markdown",
   "id": "b0d1f831",
   "metadata": {},
   "source": [
    "# プロンプト改善"
   ]
  },
  {
   "cell_type": "code",
   "execution_count": 6,
   "id": "ea91b839",
   "metadata": {},
   "outputs": [
    {
     "name": "stdout",
     "output_type": "stream",
     "text": [
      "=== 改善後のプロンプト ===\n",
      "## 基本情報\n",
      "あなたはカスタマーサポート向けSaaS『カラクリCSデジタルシリーズ』のカスタマーサポート担当です。\n",
      "丁寧かつ迅速な対応を心掛けてください。\n",
      "\n",
      "## 回答ルール\n",
      "1. 回答前に必ずFAQを参照し、FAQやドキュメントに記載された内容を優先して案内してください。\n",
      "2. FAQやドキュメントに情報が無い場合は、\n",
      "   - 追加のヒアリングや詳細説明を行わず、速やかに『お問い合わせフォーム（https://example.com/inquiry）』のご案内に切り替えてください。\n",
      "   - 「詳細なご案内には担当部署での確認が必要です。お手数ですが、以下のお問い合わせフォームよりご連絡ください。」など、期待を煽らず丁寧に案内してください。\n",
      "3. サービスに直接関係しない一般的な質問（例：APIとは何か等）には、\n",
      "   - 必要以上に一般的な説明や深堀りは行わず、「ご質問がカラクリCSデジタルシリーズのご利用に関する内容でしたら、具体的にお知らせください。」など、サービス関連のご質問が無いかを確認してください。\n",
      "4. サービスに関する質問や改善要望には、FAQやドキュメントの情報をもとに具体的かつ丁寧に回答し、必要に応じてユーザーのニーズを深堀りしてください。\n",
      "\n",
      "## 注意事項\n",
      "- 不明点やFAQに無い内容については、無理に推測や期待を持たせる回答は避けてください。\n",
      "- すべての回答は、ユーザーの時間を尊重し、簡潔かつ明確に行ってください。\n",
      "\n",
      "=== 変更理由 ===\n",
      "フィードバック分析結果から、主な不満点は『サービス非関連の質問への過剰な説明』と『FAQに情報が無い場合の不適切な深堀り・期待を煽る対応』であることが判明しました。これらを解決するため、\n",
      "- FAQに無い場合は追加ヒアリングや詳細説明をせず、速やかに問い合わせフォーム案内へ切り替える明確な指示を追加。\n",
      "- サービスに直接関係しない一般的な質問には、必要以上に説明せずサービス関連の質問が無いか確認するルールを明記。\n",
      "- サービス関連の質問には従来通り丁寧な深堀りを推奨。\n",
      "これにより、ユーザーの無駄な期待や混乱を防ぎ、迅速かつ的確な案内でサービス品質とユーザー体験の向上が期待できます。\n",
      "=== フィードバック分析 ===\n",
      "{'total_logs': 4, 'negative_count': 3, 'positive_count': 1, 'problem_patterns': {'pattern_1': {'name': 'サービス非関連質問への過剰な深堀り・説明', 'description': 'ユーザーの質問がサービスに直接関係しない場合でも、一般的な説明や深堀りを行ってしまい、ユーザーの本来の意図やサービス利用に繋がらない回答となっている。サービスに関連する問い合わせがないかを確認し、必要以上に詳細説明しない対応が求められる。', 'count': 1, 'examples': ['APIってなんですか：サービスに関係ない話題の場合は深堀りせず、サービスに関連する問い合わせが無いか確認すべき']}, 'pattern_2': {'name': 'FAQに情報が無い場合の不適切な深堀り・期待を煽る対応', 'description': 'FAQやドキュメントに該当情報が無い場合、追加情報のヒアリングや詳細説明を続けてしまい、ユーザーに過度な期待を持たせてしまう。FAQで回答できない場合は、速やかに問い合わせフォームなど適切な案内に切り替えるべき。', 'count': 2, 'examples': ['管理画面はSSO対応していますか？：FAQに情報が無い場合、深堀りせず問い合わせフォームを案内すべき', 'チャットボットのモデルはどういうシステム構成になっていますか？：FAQに情報が無い場合、深堀りせず問い合わせフォームを案内すべき']}}, 'summary': 'チャットボットの回答では、サービスに直接関係しない質問やFAQに情報が無い場合に、過剰な深堀りや説明を行う傾向が見られます。これによりユーザーの本来のニーズを捉え損ねたり、不要な期待を持たせてしまう問題が発生しています。一方で、サービスに関する質問に対しては、適切な回答とユーザーのニーズを深堀りする姿勢が高く評価されています。', 'priority_issues': ['FAQやドキュメントに情報が無い場合は、深堀りや追加ヒアリングを控え、速やかに問い合わせフォームなど適切な案内に切り替える', 'サービスに直接関係しない一般的な質問には、必要以上に説明せず、サービス関連の問い合わせが無いかを確認する'], 'negative_feedbacks': [{'id': '1', 'question': 'APIってなんですか', 'answer': 'APIとは「Application Programming Interface（アプリケーション・プログラミング・インターフェース）」の略で、ソフトウェア同士が機能やデータをやりとりするための仕組みです。たとえば、弊社サービス「カラクリCSデジタルシリーズ」でも、APIを通じて他システムと連携したり、データを取得・送信することができます。\\n\\nもしAPIのより具体的な利用方法や制限についてご質問があれば、ぜひお知らせください。', 'feedback': 'ng', 'reason': 'サービスに関係無い話題の場合は深堀りせず、サービスに関連する問い合わせが無いか確認すべき'}, {'id': '2', 'question': '管理画面はSSO対応していますか？', 'answer': '現時点で、管理画面のSSO（シングルサインオン）対応についての明確な記載はFAQ内にございません。お手数ですが、より詳細なご要望や利用予定のSSOサービス（例：Google Workspace、Azure ADなど）があれば、追加でお知らせいただけますと幸いです。必要でしたら、担当部署に確認のうえ、改めてご案内いたします。', 'feedback': 'ng', 'reason': '検索したFAQで関連ドキュメントが見つからない場合、深堀りしても期待を煽るだけになるので問い合わせフォーム https://example.com/inquiry を案内すべき'}, {'id': '3', 'question': 'チャットボットのモデルはどういうシステム構成になっていますか？', 'answer': '現時点でFAQの中に、チャットボットのモデルの詳しいシステム構成に関する具体的な情報は見当たりませんでした。\\n\\nご参考までに、カラクリCSデジタルシリーズのチャットボットはセキュリティに配慮しており、学習データは暗号化されて日本国内のデータセンターに安全に保存されています。また、応答も非常に高速（通常1秒以内）で提供できます。\\n\\nもしシステムアーキテクチャ詳細（使用しているAIモデル、インフラ構成、APIの有無など）についてご要望がございましたら、もう少し具体的なご質問内容をお聞かせいただければ、より詳細にご案内できる場合がございます。どうぞご遠慮なくお知らせください。', 'feedback': 'ng', 'reason': '検索したFAQで関連ドキュメントが見つからない場合、深堀りしても期待を煽るだけになるので問い合わせフォーム https://example.com/inquiry を案内すべき'}], 'positive_feedbacks': [{'id': '4', 'question': 'チャットボットの精度を上げたい', 'answer': 'チャットボットの精度を上げるためには、以下の方法が効果的です。\\n\\n- FAQデータを充実させること\\n- 定期的に会話ログを確認し、改善点を見つけて修正すること\\n\\nもし具体的な改善方法やツールの使い方などご相談があれば、お気軽にお知らせください。', 'feedback': 'ok', 'reason': '回答した上で、ユーザーのニーズを深堀りするのはとても良い'}]}\n"
     ]
    }
   ],
   "source": [
    "from src.prompts import SYSTEM_PROMPT\n",
    "from src.prompt_improvement import improve_prompt_from_feedback\n",
    "\n",
    "\n",
    "\n",
    "result = improve_prompt_from_feedback(SYSTEM_PROMPT, feedback_csv_path=\"../data/feedback-logs.csv\")\n",
    "print(\"=== 改善後のプロンプト ===\")\n",
    "print(result.improved_prompt)\n",
    "print(\"=== 変更理由 ===\")\n",
    "print(result.change_reason)\n",
    "print(\"=== フィードバック分析 ===\")\n",
    "print(result.feedback_analysis)"
   ]
  },
  {
   "cell_type": "markdown",
   "id": "e0c1319c",
   "metadata": {},
   "source": [
    "# 改善示唆出し"
   ]
  },
  {
   "cell_type": "code",
   "execution_count": 7,
   "id": "1d164e0f",
   "metadata": {},
   "outputs": [
    {
     "name": "stderr",
     "output_type": "stream",
     "text": [
      "\u001b[36m\u001b[1mweave\u001b[0m: Evaluated 1 of 10 examples\n",
      "\u001b[36m\u001b[1mweave\u001b[0m: Evaluated 2 of 10 examples\n",
      "\u001b[36m\u001b[1mweave\u001b[0m: Evaluated 3 of 10 examples\n",
      "\u001b[36m\u001b[1mweave\u001b[0m: Evaluated 4 of 10 examples\n",
      "\u001b[36m\u001b[1mweave\u001b[0m: Evaluated 5 of 10 examples\n",
      "\u001b[36m\u001b[1mweave\u001b[0m: Evaluated 6 of 10 examples\n",
      "\u001b[36m\u001b[1mweave\u001b[0m: Evaluated 7 of 10 examples\n",
      "\u001b[36m\u001b[1mweave\u001b[0m: Evaluated 8 of 10 examples\n",
      "\u001b[36m\u001b[1mweave\u001b[0m: Evaluated 9 of 10 examples\n",
      "\u001b[36m\u001b[1mweave\u001b[0m: Evaluated 10 of 10 examples\n",
      "\u001b[36m\u001b[1mweave\u001b[0m: Evaluation summary {\n",
      "\u001b[36m\u001b[1mweave\u001b[0m:   \"KnowledgeGapScorer\": {\n",
      "\u001b[36m\u001b[1mweave\u001b[0m:     \"knowledge_gap\": {\n",
      "\u001b[36m\u001b[1mweave\u001b[0m:       \"flag\": {\n",
      "\u001b[36m\u001b[1mweave\u001b[0m:         \"mean\": 0.6\n",
      "\u001b[36m\u001b[1mweave\u001b[0m:       },\n",
      "\u001b[36m\u001b[1mweave\u001b[0m:       \"raw\": {\n",
      "\u001b[36m\u001b[1mweave\u001b[0m:         \"lack_of_knowledge\": {\n",
      "\u001b[36m\u001b[1mweave\u001b[0m:           \"mean\": 0.6\n",
      "\u001b[36m\u001b[1mweave\u001b[0m:         },\n",
      "\u001b[36m\u001b[1mweave\u001b[0m:         \"lack_of_understanding\": {\n",
      "\u001b[36m\u001b[1mweave\u001b[0m:           \"mean\": 0.4\n",
      "\u001b[36m\u001b[1mweave\u001b[0m:         }\n",
      "\u001b[36m\u001b[1mweave\u001b[0m:       }\n",
      "\u001b[36m\u001b[1mweave\u001b[0m:     }\n",
      "\u001b[36m\u001b[1mweave\u001b[0m:   },\n",
      "\u001b[36m\u001b[1mweave\u001b[0m:   \"model_latency\": {\n",
      "\u001b[36m\u001b[1mweave\u001b[0m:     \"mean\": 3.048652458190918\n",
      "\u001b[36m\u001b[1mweave\u001b[0m:   }\n",
      "\u001b[36m\u001b[1mweave\u001b[0m: }\n"
     ]
    }
   ],
   "source": [
    "from weave import Dataset, Evaluation, Table\n",
    "\n",
    "from src.run_improvement import load_questions, ChatBotModel, KnowledgeGapScorer\n",
    "\n",
    "logger.info(\"Loading questions...\")\n",
    "questions = load_questions(file_path=\"../data/eval-onboarding.csv\")\n",
    "logger.info(\"Loaded %d examples\", len(questions))\n",
    "\n",
    "model = ChatBotModel()\n",
    "scorer = KnowledgeGapScorer()\n",
    "\n",
    "table = Table([{\"question\": q[\"question\"], \"id\": q[\"id\"]} for q in questions])\n",
    "dataset = Dataset(name=\"knowledge_improvement\", rows=table)\n",
    "\n",
    "evaluation = Evaluation(dataset=dataset, scorers=[scorer])\n",
    "\n",
    "logger.info(\"Starting improvement evaluation...\")\n",
    "results = await evaluation.evaluate(model)\n",
    "logger.info(\"Improvement evaluation finished: %s\", results)"
   ]
  },
  {
   "cell_type": "code",
   "execution_count": null,
   "id": "d920bdef",
   "metadata": {},
   "outputs": [],
   "source": []
  },
  {
   "cell_type": "code",
   "execution_count": null,
   "id": "1d28dd04",
   "metadata": {},
   "outputs": [],
   "source": []
  }
 ],
 "metadata": {
  "kernelspec": {
   "display_name": "Python 3 (ipykernel)",
   "language": "python",
   "name": "python3"
  },
  "language_info": {
   "codemirror_mode": {
    "name": "ipython",
    "version": 3
   },
   "file_extension": ".py",
   "mimetype": "text/x-python",
   "name": "python",
   "nbconvert_exporter": "python",
   "pygments_lexer": "ipython3",
   "version": "3.13.3"
  }
 },
 "nbformat": 4,
 "nbformat_minor": 5
}
