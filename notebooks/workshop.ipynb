{
 "cells": [
  {
   "cell_type": "markdown",
   "id": "a052fbe6",
   "metadata": {},
   "source": [
    "# Fully Connected Tokyo 2025 Karakuri Workshop"
   ]
  },
  {
   "cell_type": "code",
   "execution_count": 1,
   "id": "9096892b",
   "metadata": {},
   "outputs": [],
   "source": [
    "import logging\n",
    "\n",
    "import sys\n",
    "sys.path.append(\"..\")\n",
    "\n",
    "logger = logging.getLogger(__name__)"
   ]
  },
  {
   "cell_type": "code",
   "execution_count": 2,
   "id": "24b4cf3d-a9c5-4ba8-9f9b-b5eb7a3c17c3",
   "metadata": {},
   "outputs": [],
   "source": [
    "import os\n",
    "from src.config import Config\n",
    "\n",
    "config = Config(_env_file=\"../.env\")\n",
    "os.environ[\"OPENAI_API_KEY\"] = config.openai_api_key.get_secret_value()"
   ]
  },
  {
   "cell_type": "code",
   "execution_count": 3,
   "id": "3cb5e27b-f9d6-41f2-b9ec-4607e6381984",
   "metadata": {},
   "outputs": [
    {
     "name": "stderr",
     "output_type": "stream",
     "text": [
      "\u001b[36m\u001b[1mweave\u001b[0m: wandb version 0.22.3 is available!  To upgrade, please run:\n",
      "\u001b[36m\u001b[1mweave\u001b[0m:  $ pip install wandb --upgrade\n",
      "\u001b[36m\u001b[1mweave\u001b[0m: Logged in as Weights & Biases user: k-obinata-trials.\n",
      "\u001b[36m\u001b[1mweave\u001b[0m: View Weave data at https://wandb.ai/k-obinata-trials-obinata-private/weave-quickstart/weave\n"
     ]
    }
   ],
   "source": [
    "from src.chat import setup_weave\n",
    "\n",
    "setup_weave(\n",
    "    wandb_api_key=config.wandb_api_key.get_secret_value(),\n",
    "    weave_project_name=config.weave_project_name,\n",
    ")"
   ]
  },
  {
   "cell_type": "markdown",
   "id": "83df164d",
   "metadata": {},
   "source": [
    "# チャット機能のお試し"
   ]
  },
  {
   "cell_type": "code",
   "execution_count": null,
   "id": "ef7ca13b-306a-4b0b-b143-88c7135635b5",
   "metadata": {},
   "outputs": [
    {
     "name": "stderr",
     "output_type": "stream",
     "text": [
      "\u001b[36m\u001b[1mweave\u001b[0m: 🍩 https://wandb.ai/k-obinata-trials-obinata-private/weave-quickstart/r/call/019a3294-745a-7cd1-b18b-5a787e0223c8\n"
     ]
    },
    {
     "name": "stdout",
     "output_type": "stream",
     "text": [
      "プランの変更は管理画面の「プラン設定」からいつでも行っていただけます。変更内容は即座に反映されます。\n",
      "\n",
      "ご不明点や操作方法についてご案内が必要な場合は、どうぞお気軽にお知らせください。\n"
     ]
    },
    {
     "name": "stderr",
     "output_type": "stream",
     "text": [
      "\u001b[36m\u001b[1mweave\u001b[0m: 🍩 https://wandb.ai/k-obinata-trials-obinata-private/weave-quickstart/r/call/019a3294-817f-7d1c-8014-b07999ccfad2\n",
      "\u001b[36m\u001b[1mweave\u001b[0m: 🍩 https://wandb.ai/k-obinata-trials-obinata-private/weave-quickstart/r/call/019a3294-c594-76d8-b8cd-3c63596b821a\n",
      "\u001b[36m\u001b[1mweave\u001b[0m: 🍩 https://wandb.ai/k-obinata-trials-obinata-private/weave-quickstart/r/call/019a3294-e663-73f9-a681-3a27683fa588\n",
      "\u001b[36m\u001b[1mweave\u001b[0m: 🍩 https://wandb.ai/k-obinata-trials-obinata-private/weave-quickstart/r/call/019a3295-00ed-7bdd-9c50-13dbcc850606\n"
     ]
    }
   ],
   "source": [
    "from src.chat import chat\n",
    "\n",
    "response = chat(messages=[{\"role\": \"user\", \"content\": \"プランを変更したいです\"}])\n",
    "print(response)"
   ]
  },
  {
   "cell_type": "markdown",
   "id": "4b919609-25e8-4330-ba22-639341db8755",
   "metadata": {},
   "source": [
    "# 精度評価"
   ]
  },
  {
   "cell_type": "code",
   "execution_count": 5,
   "id": "0b9855cf-9a75-460a-8075-20e859f6a1da",
   "metadata": {},
   "outputs": [
    {
     "name": "stdout",
     "output_type": "stream",
     "text": [
      "Loaded 10 evaluation examples\n",
      "==== 評価開始 ====\n"
     ]
    },
    {
     "name": "stderr",
     "output_type": "stream",
     "text": [
      "\u001b[36m\u001b[1mweave\u001b[0m: Evaluated 1 of 10 examples\n",
      "\u001b[36m\u001b[1mweave\u001b[0m: Evaluated 2 of 10 examples\n",
      "\u001b[36m\u001b[1mweave\u001b[0m: Evaluated 3 of 10 examples\n",
      "\u001b[36m\u001b[1mweave\u001b[0m: Evaluated 4 of 10 examples\n",
      "\u001b[36m\u001b[1mweave\u001b[0m: Evaluated 5 of 10 examples\n",
      "\u001b[36m\u001b[1mweave\u001b[0m: Evaluated 6 of 10 examples\n",
      "\u001b[36m\u001b[1mweave\u001b[0m: Evaluated 7 of 10 examples\n",
      "\u001b[36m\u001b[1mweave\u001b[0m: Evaluated 8 of 10 examples\n",
      "\u001b[36m\u001b[1mweave\u001b[0m: Evaluated 9 of 10 examples\n",
      "\u001b[36m\u001b[1mweave\u001b[0m: Evaluated 10 of 10 examples\n",
      "\u001b[36m\u001b[1mweave\u001b[0m: Evaluation summary {\n",
      "\u001b[36m\u001b[1mweave\u001b[0m:   \"QAAccuracyScorer\": {\n",
      "\u001b[36m\u001b[1mweave\u001b[0m:     \"accuracy\": {\n",
      "\u001b[36m\u001b[1mweave\u001b[0m:       \"answer\": {\n",
      "\u001b[36m\u001b[1mweave\u001b[0m:         \"mean\": 1.1\n",
      "\u001b[36m\u001b[1mweave\u001b[0m:       }\n",
      "\u001b[36m\u001b[1mweave\u001b[0m:     }\n",
      "\u001b[36m\u001b[1mweave\u001b[0m:   },\n",
      "\u001b[36m\u001b[1mweave\u001b[0m:   \"ContextHallucinationScorer\": {\n",
      "\u001b[36m\u001b[1mweave\u001b[0m:     \"context_hallucination\": {\n",
      "\u001b[36m\u001b[1mweave\u001b[0m:       \"hallucination\": {\n",
      "\u001b[36m\u001b[1mweave\u001b[0m:         \"mean\": 0.0\n",
      "\u001b[36m\u001b[1mweave\u001b[0m:       }\n",
      "\u001b[36m\u001b[1mweave\u001b[0m:     }\n",
      "\u001b[36m\u001b[1mweave\u001b[0m:   },\n",
      "\u001b[36m\u001b[1mweave\u001b[0m:   \"CommonSenseHallucinationScorer\": {\n",
      "\u001b[36m\u001b[1mweave\u001b[0m:     \"common_sense_hallucination\": {\n",
      "\u001b[36m\u001b[1mweave\u001b[0m:       \"hallucination\": {\n",
      "\u001b[36m\u001b[1mweave\u001b[0m:         \"mean\": 0.3\n",
      "\u001b[36m\u001b[1mweave\u001b[0m:       }\n",
      "\u001b[36m\u001b[1mweave\u001b[0m:     }\n",
      "\u001b[36m\u001b[1mweave\u001b[0m:   },\n",
      "\u001b[36m\u001b[1mweave\u001b[0m:   \"model_latency\": {\n",
      "\u001b[36m\u001b[1mweave\u001b[0m:     \"mean\": 4.12297248840332\n",
      "\u001b[36m\u001b[1mweave\u001b[0m:   }\n",
      "\u001b[36m\u001b[1mweave\u001b[0m: }\n"
     ]
    }
   ],
   "source": [
    "from src.run_evaluation import (\n",
    "    load_evaluation_dataset,\n",
    "    QAAccuracyScorer,\n",
    "    ContextHallucinationScorer,\n",
    "    CommonSenseHallucinationScorer,\n",
    "    ChatBotModel,\n",
    ")\n",
    "from weave import Dataset, Evaluation, Table\n",
    "\n",
    "dataset = load_evaluation_dataset(file_path=\"../data/eval-onboarding.csv\")\n",
    "print(f\"Loaded {len(dataset)} evaluation examples\")\n",
    "\n",
    "qa_accuracy_scorer = QAAccuracyScorer()\n",
    "context_scorer = ContextHallucinationScorer()\n",
    "commonsense_scorer = CommonSenseHallucinationScorer()\n",
    "model = ChatBotModel()\n",
    "\n",
    "table = Table(dataset)\n",
    "weave_dataset = Dataset(name=\"chatbot_evaluation\", rows=table)\n",
    "evaluation = Evaluation(\n",
    "    name=\"PreReleaseEvaluation\",\n",
    "    dataset=weave_dataset,\n",
    "    scorers=[qa_accuracy_scorer, context_scorer, commonsense_scorer],\n",
    ")\n",
    "\n",
    "print(\"==== 評価開始 ====\")\n",
    "results = await evaluation.evaluate(model)"
   ]
  },
  {
   "cell_type": "markdown",
   "id": "b0d1f831",
   "metadata": {},
   "source": [
    "# プロンプト改善"
   ]
  },
  {
   "cell_type": "code",
   "execution_count": 6,
   "id": "ea91b839",
   "metadata": {},
   "outputs": [
    {
     "name": "stdout",
     "output_type": "stream",
     "text": [
      "=== 改善後のプロンプト ===\n",
      "## 基本情報\n",
      "あなたはカスタマーサポート向けSaaS『カラクリCSデジタルシリーズ』のカスタマーサポート担当です。常に丁寧かつ迅速な対応を心掛けてください。\n",
      "\n",
      "## 回答ルール\n",
      "1. まずFAQを参照し、該当情報がある場合はFAQ内容に基づき簡潔かつ分かりやすく回答してください。\n",
      "2. FAQに情報が無い場合、ユーザーに追加情報を求めたり、詳細な深堀りは行わず、速やかに以下の問い合わせフォーム（https://example.com/inquiry）をご案内してください。\n",
      "3. サービスに直接関係しない一般的な質問（例：APIとは何か等）には、詳細な説明を避け、まず「カラクリCSデジタルシリーズ」に関するご質問やご要望があるかを確認してください。必要以上に会話を長引かせないよう注意してください。\n",
      "4. サービスに関する具体的なご相談や改善要望があれば、積極的にヒアリングし、適切なサポートや追加提案を行ってください。\n",
      "\n",
      "## 注意事項\n",
      "- FAQやサービスに直接関係しない話題での過剰な説明や追加質問は控えてください。\n",
      "- FAQで解決できない場合は、ユーザーの期待を煽らず、速やかに問い合わせ窓口を案内してください。\n",
      "- 丁寧な言葉遣いと、ユーザーの負担を最小限にする配慮を忘れないでください。\n",
      "=== 変更理由 ===\n",
      "フィードバック分析結果から、FAQに情報が無い場合やサービス非関連の質問に対して過剰な深堀りや期待を煽る案内がユーザーの不満につながっていることが判明しました。そのため、FAQ未掲載時は速やかに問い合わせフォームを案内し、サービス非関連の質問にはまずサービス関連のご要望有無を確認する運用に明確化しました。これにより、無駄なやり取りや期待値コントロールの失敗を防ぎ、ユーザー体験とサービス品質の向上が期待できます。また、ポジティブなフィードバック例を参考に、サービスに関する具体的な相談には積極的なサポートを推奨することで、より高品質なカスタマーサポートを実現します。\n",
      "=== フィードバック分析 ===\n",
      "{'total_logs': 4, 'negative_count': 3, 'positive_count': 1, 'problem_patterns': {'pattern_1': {'name': 'サービス非関連質問への過剰な深堀り', 'description': 'サービスに直接関係しない一般的な質問（例：APIとは何か）に対して、詳細な説明や追加質問を行ってしまい、ユーザーの本来の意図を確認せずに会話が長引く傾向がある。サービス関連の問い合わせが無いかをまず確認し、必要以上に深堀りしない対応が求められる。', 'count': 1, 'examples': ['APIってなんですか → サービスに関係無い話題の場合は深堀りせず、サービスに関連する問い合わせが無いか確認すべき']}, 'pattern_2': {'name': 'FAQ未掲載時の不適切な深堀りと案内不足', 'description': 'FAQに情報が無い場合、ユーザーに追加情報を求めたり、詳細を深堀りすることで期待を煽ってしまい、結果的に解決策を提示できない。FAQで解決できない場合は、速やかに問い合わせフォームなどの適切な窓口を案内すべきである。', 'count': 2, 'examples': ['管理画面はSSO対応していますか？ → FAQに情報がない場合、深堀りせず問い合わせフォームを案内すべき', 'チャットボットのモデルはどういうシステム構成になっていますか？ → FAQに情報がない場合、深堀りせず問い合わせフォームを案内すべき']}}, 'summary': '主な問題は、FAQやサービスに直接関係しない質問に対して過剰に深堀りしたり、FAQに情報が無い場合に適切な案内（問い合わせフォームの提示）ができていない点です。ポジティブフィードバック例では、サービスに関する具体的なアドバイスをした上で、追加ニーズを確認する良い対応が見られました。今後は、FAQに情報が無い場合やサービス非関連の質問には、深堀りを控え、適切な案内を優先する必要があります。', 'priority_issues': ['FAQに情報が無い場合は、深堀りせず速やかに問い合わせフォームなどの案内を行う', 'サービスに直接関係しない質問には、まずサービス関連の問い合わせ有無を確認し、必要以上に詳細説明をしない'], 'negative_feedbacks': [{'id': '1', 'question': 'APIってなんですか', 'answer': 'APIとは「Application Programming Interface（アプリケーション・プログラミング・インターフェース）」の略で、ソフトウェア同士が機能やデータをやりとりするための仕組みです。たとえば、弊社サービス「カラクリCSデジタルシリーズ」でも、APIを通じて他システムと連携したり、データを取得・送信することができます。\\n\\nもしAPIのより具体的な利用方法や制限についてご質問があれば、ぜひお知らせください。', 'feedback': 'ng', 'reason': 'サービスに関係無い話題の場合は深堀りせず、サービスに関連する問い合わせが無いか確認すべき'}, {'id': '2', 'question': '管理画面はSSO対応していますか？', 'answer': '現時点で、管理画面のSSO（シングルサインオン）対応についての明確な記載はFAQ内にございません。お手数ですが、より詳細なご要望や利用予定のSSOサービス（例：Google Workspace、Azure ADなど）があれば、追加でお知らせいただけますと幸いです。必要でしたら、担当部署に確認のうえ、改めてご案内いたします。', 'feedback': 'ng', 'reason': '検索したFAQで関連ドキュメントが見つからない場合、深堀りしても期待を煽るだけになるので問い合わせフォーム https://example.com/inquiry を案内すべき'}, {'id': '3', 'question': 'チャットボットのモデルはどういうシステム構成になっていますか？', 'answer': '現時点でFAQの中に、チャットボットのモデルの詳しいシステム構成に関する具体的な情報は見当たりませんでした。\\n\\nご参考までに、カラクリCSデジタルシリーズのチャットボットはセキュリティに配慮しており、学習データは暗号化されて日本国内のデータセンターに安全に保存されています。また、応答も非常に高速（通常1秒以内）で提供できます。\\n\\nもしシステムアーキテクチャ詳細（使用しているAIモデル、インフラ構成、APIの有無など）についてご要望がございましたら、もう少し具体的なご質問内容をお聞かせいただければ、より詳細にご案内できる場合がございます。どうぞご遠慮なくお知らせください。', 'feedback': 'ng', 'reason': '検索したFAQで関連ドキュメントが見つからない場合、深堀りしても期待を煽るだけになるので問い合わせフォーム https://example.com/inquiry を案内すべき'}], 'positive_feedbacks': [{'id': '4', 'question': 'チャットボットの精度を上げたい', 'answer': 'チャットボットの精度を上げるためには、以下の方法が効果的です。\\n\\n- FAQデータを充実させること\\n- 定期的に会話ログを確認し、改善点を見つけて修正すること\\n\\nもし具体的な改善方法やツールの使い方などご相談があれば、お気軽にお知らせください。', 'feedback': 'ok', 'reason': '回答した上で、ユーザーのニーズを深堀りするのはとても良い'}]}\n"
     ]
    }
   ],
   "source": [
    "from src.prompts import SYSTEM_PROMPT\n",
    "from src.prompt_improvement import improve_prompt_from_feedback\n",
    "\n",
    "\n",
    "result = improve_prompt_from_feedback(SYSTEM_PROMPT, feedback_csv_path=\"../data/feedback-logs.csv\")\n",
    "print(\"=== 改善後のプロンプト ===\")\n",
    "print(result.improved_prompt)\n",
    "print(\"=== 変更理由 ===\")\n",
    "print(result.change_reason)\n",
    "print(\"=== フィードバック分析 ===\")\n",
    "print(result.feedback_analysis)"
   ]
  },
  {
   "cell_type": "markdown",
   "id": "e0c1319c",
   "metadata": {},
   "source": [
    "# 改善示唆出し"
   ]
  },
  {
   "cell_type": "code",
   "execution_count": 7,
   "id": "1d164e0f",
   "metadata": {},
   "outputs": [
    {
     "name": "stdout",
     "output_type": "stream",
     "text": [
      "Loaded 10 examples\n",
      "==== 改善示唆出し開始 ====\n"
     ]
    },
    {
     "name": "stderr",
     "output_type": "stream",
     "text": [
      "\u001b[36m\u001b[1mweave\u001b[0m: Evaluated 1 of 10 examples\n",
      "\u001b[36m\u001b[1mweave\u001b[0m: Evaluated 2 of 10 examples\n",
      "\u001b[36m\u001b[1mweave\u001b[0m: Evaluated 3 of 10 examples\n",
      "\u001b[36m\u001b[1mweave\u001b[0m: Evaluated 4 of 10 examples\n",
      "\u001b[36m\u001b[1mweave\u001b[0m: Evaluated 5 of 10 examples\n",
      "\u001b[36m\u001b[1mweave\u001b[0m: Evaluated 6 of 10 examples\n",
      "\u001b[36m\u001b[1mweave\u001b[0m: Evaluated 7 of 10 examples\n",
      "\u001b[36m\u001b[1mweave\u001b[0m: Evaluated 8 of 10 examples\n",
      "\u001b[36m\u001b[1mweave\u001b[0m: Evaluated 9 of 10 examples\n",
      "\u001b[36m\u001b[1mweave\u001b[0m: Evaluated 10 of 10 examples\n",
      "\u001b[36m\u001b[1mweave\u001b[0m: Evaluation summary {\n",
      "\u001b[36m\u001b[1mweave\u001b[0m:   \"KnowledgeGapScorer\": {\n",
      "\u001b[36m\u001b[1mweave\u001b[0m:     \"knowledge_gap\": {\n",
      "\u001b[36m\u001b[1mweave\u001b[0m:       \"flag\": {\n",
      "\u001b[36m\u001b[1mweave\u001b[0m:         \"mean\": 0.2\n",
      "\u001b[36m\u001b[1mweave\u001b[0m:       },\n",
      "\u001b[36m\u001b[1mweave\u001b[0m:       \"raw\": {\n",
      "\u001b[36m\u001b[1mweave\u001b[0m:         \"discontent\": {\n",
      "\u001b[36m\u001b[1mweave\u001b[0m:           \"mean\": 0.2\n",
      "\u001b[36m\u001b[1mweave\u001b[0m:         },\n",
      "\u001b[36m\u001b[1mweave\u001b[0m:         \"lack_of_knowledge\": {\n",
      "\u001b[36m\u001b[1mweave\u001b[0m:           \"mean\": 0.2\n",
      "\u001b[36m\u001b[1mweave\u001b[0m:         },\n",
      "\u001b[36m\u001b[1mweave\u001b[0m:         \"lack_of_understanding\": {\n",
      "\u001b[36m\u001b[1mweave\u001b[0m:           \"mean\": 0.0\n",
      "\u001b[36m\u001b[1mweave\u001b[0m:         }\n",
      "\u001b[36m\u001b[1mweave\u001b[0m:       }\n",
      "\u001b[36m\u001b[1mweave\u001b[0m:     }\n",
      "\u001b[36m\u001b[1mweave\u001b[0m:   },\n",
      "\u001b[36m\u001b[1mweave\u001b[0m:   \"model_latency\": {\n",
      "\u001b[36m\u001b[1mweave\u001b[0m:     \"mean\": 3.1811434745788576\n",
      "\u001b[36m\u001b[1mweave\u001b[0m:   }\n",
      "\u001b[36m\u001b[1mweave\u001b[0m: }\n"
     ]
    }
   ],
   "source": [
    "from weave import Dataset, Evaluation, Table\n",
    "\n",
    "from src.run_improvement import load_questions, ChatBotModel, KnowledgeGapScorer\n",
    "\n",
    "questions = load_questions(file_path=\"../data/eval-onboarding.csv\")\n",
    "print(f\"Loaded {len(questions)} examples\")\n",
    "\n",
    "model = ChatBotModel()\n",
    "scorer = KnowledgeGapScorer()\n",
    "\n",
    "table = Table([{\"question\": q[\"question\"], \"id\": q[\"id\"]} for q in questions])\n",
    "dataset = Dataset(name=\"knowledge_improvement\", rows=table)\n",
    "\n",
    "evaluation = Evaluation(\n",
    "    name=\"KnowledgeImprovementEvaluation\",\n",
    "    dataset=dataset,\n",
    "    scorers=[scorer],\n",
    ")\n",
    "\n",
    "print(\"==== 改善示唆出し開始 ====\")\n",
    "results = await evaluation.evaluate(model)"
   ]
  }
 ],
 "metadata": {
  "kernelspec": {
   "display_name": ".venv",
   "language": "python",
   "name": "python3"
  },
  "language_info": {
   "codemirror_mode": {
    "name": "ipython",
    "version": 3
   },
   "file_extension": ".py",
   "mimetype": "text/x-python",
   "name": "python",
   "nbconvert_exporter": "python",
   "pygments_lexer": "ipython3",
   "version": "3.13.3"
  }
 },
 "nbformat": 4,
 "nbformat_minor": 5
}
